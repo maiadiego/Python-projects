{
 "cells": [
  {
   "cell_type": "markdown",
   "id": "d24b8e60",
   "metadata": {},
   "source": [
    "O andar de um bêbado é tipicamente modelado com uma probabilidade igual de ir para frente ou para trás, ou seja, cinquenta porcento de probabilidade para os dois lados, bem como em um sorteio de moedas. Neste código, vamos variar essa probabilidade definindo cinco bêbados diferentes e em seguida analisar o resultado. "
   ]
  },
  {
   "cell_type": "code",
   "execution_count": 1,
   "id": "ea207537",
   "metadata": {},
   "outputs": [],
   "source": [
    "import numpy as np\n",
    "import matplotlib.pyplot as plt"
   ]
  },
  {
   "cell_type": "code",
   "execution_count": 2,
   "id": "9dfa519a",
   "metadata": {},
   "outputs": [],
   "source": [
    "# definindo a quantidade de passos e o número de bêbados para cada probabilidade\n",
    "rng = np.random.default_rng()\n",
    "direction = np.array ([1, -1])\n",
    "nsteps = 100 + 1\n",
    "nwalker = 100000"
   ]
  },
  {
   "cell_type": "code",
   "execution_count": 3,
   "id": "32ac9d3e",
   "metadata": {},
   "outputs": [],
   "source": [
    "# probabilidades\n",
    "w1 = rng.choice(direction, size=(nsteps, nwalker), p=[0.5, 0.5])\n",
    "w2 = rng.choice(direction, size=(nsteps, nwalker), p=[0.6, 0.4])\n",
    "w3 = rng.choice(direction, size=(nsteps, nwalker), p=[0.7, 0.3])\n",
    "w4 = rng.choice(direction, size=(nsteps, nwalker), p=[0.8, 0.2])\n",
    "w5 = rng.choice(direction, size=(nsteps, nwalker), p=[0.9, 0.1])"
   ]
  },
  {
   "cell_type": "code",
   "execution_count": 4,
   "id": "eda10248",
   "metadata": {},
   "outputs": [],
   "source": [
    "# montando a trajetória\n",
    "w1[0,:] = 0\n",
    "w1 = np.cumsum(w1, axis=0)\n",
    "w2[0,:] = 0\n",
    "w2 = np.cumsum(w2, axis=0)\n",
    "w3[0,:] = 0 \n",
    "w3 = np.cumsum(w3, axis=0)\n",
    "w4[0,:] = 0 \n",
    "w4 = np.cumsum(w4, axis=0)\n",
    "w5[0,:] = 0 \n",
    "w5 = np.cumsum(w5, axis=0)"
   ]
  },
  {
   "cell_type": "code",
   "execution_count": 5,
   "id": "527de694",
   "metadata": {},
   "outputs": [
    {
     "data": {
      "image/png": "[encoded data removed]",
      "text/plain": [
       "<Figure size 432x288 with 1 Axes>"
      ]
     },
     "metadata": {
      "needs_background": "light"
     },
     "output_type": "display_data"
    }
   ],
   "source": [
    "# plotando o gráfico\n",
    "plt.hist (w1[-1,:], bins=20)\n",
    "plt.Normalize(w1.min(), w1.max())\n",
    "plt.hist (w2[-1,:], bins=20)\n",
    "plt.Normalize(w2.min(), w2.max())\n",
    "plt.hist (w3[-1,:], bins=20)\n",
    "plt.Normalize(w3.min(), w3.max())\n",
    "plt.hist (w4[-1,:], bins=20)\n",
    "plt.Normalize(w4.min(), w4.max())\n",
    "plt.hist (w5[-1,:], bins=20)\n",
    "plt.Normalize(w5.min(), w5.max())\n",
    "\n",
    "plt.axhline(0, c='r')\n",
    "plt.show()"
   ]
  },
  {
   "cell_type": "markdown",
   "id": "06a10453",
   "metadata": {},
   "source": [
    "Vemos que, conforme a probabilidade de dar um passo a frente aumenta, a posição final mais frequente também aumenta. Assim, temos que para probabilidade de 50%, a maior  parte dos bêbados tem posição final 0; para a probabilidade 60%, posição final 20; para a probabilidade 70%, posição final 40; para a probabilidade 80%, posição final 60 e para a probabilidade 90%, posição final 80."
   ]
  }
 ],
 "metadata": {
  "kernelspec": {
   "display_name": "Python 3 (ipykernel)",
   "language": "python",
   "name": "python3"
  },
  "language_info": {
   "codemirror_mode": {
    "name": "ipython",
    "version": 3
   },
   "file_extension": ".py",
   "mimetype": "text/x-python",
   "name": "python",
   "nbconvert_exporter": "python",
   "pygments_lexer": "ipython3",
   "version": "3.10.4"
  }
 },
 "nbformat": 4,
 "nbformat_minor": 5
}
