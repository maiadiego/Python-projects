{
 "cells": [
  {
   "cell_type": "markdown",
   "id": "b69defe4",
   "metadata": {},
   "source": [
    "Análise do movimento de duas partículas em um plano xy de acordo com suas respectivas equações definidas em first_particule e second_particle.  "
   ]
  },
  {
   "cell_type": "code",
   "execution_count": 25,
   "id": "30b863b0",
   "metadata": {},
   "outputs": [],
   "source": [
    "# bibliotecas científicas utilizadas\n",
    "import numpy as np\n",
    "import matplotlib.pyplot as plt\n",
    "from math import *\n",
    "from scipy.optimize import root_scalar\n",
    "from scipy.optimize import bracket "
   ]
  },
  {
   "cell_type": "code",
   "execution_count": 15,
   "id": "58a317c1",
   "metadata": {},
   "outputs": [],
   "source": [
    "# dados\n",
    "v0 = 10\n",
    "a = 5\n",
    "xm = 100\n",
    "r = 5"
   ]
  },
  {
   "cell_type": "code",
   "execution_count": 16,
   "id": "1f7c6478",
   "metadata": {},
   "outputs": [],
   "source": [
    "# equações da primeira particula\n",
    "def first_particle(t):\n",
    "    x1 = v0 * t\n",
    "    y1 = 0.5 * a * (t**2)\n",
    "    return x1, y1"
   ]
  },
  {
   "cell_type": "code",
   "execution_count": 17,
   "id": "166d723c",
   "metadata": {},
   "outputs": [],
   "source": [
    "# equações da segunda particula\n",
    "def second_particle(t, y0):\n",
    "    x2 = xm * np.tanh(t/r)\n",
    "    y2 = y0*exp(t/r)\n",
    "    return x2, y2"
   ]
  },
  {
   "cell_type": "code",
   "execution_count": 18,
   "id": "6b724b80",
   "metadata": {},
   "outputs": [],
   "source": [
    "# igualdade entre as equacoes das posicoes x\n",
    "def func(t):\n",
    "    return v0 * t - xm * np.tanh(t/r)"
   ]
  },
  {
   "cell_type": "code",
   "execution_count": 19,
   "id": "adaec92b",
   "metadata": {},
   "outputs": [],
   "source": [
    "# posicao da colisao\n",
    "def colision():\n",
    "    aux = root_scalar(func, bracket = [2, 50])\n",
    "    t = aux.root\n",
    "    return 0.5 * a * (t**2) / exp(t/r)"
   ]
  },
  {
   "cell_type": "code",
   "execution_count": 20,
   "id": "e3c5714d",
   "metadata": {},
   "outputs": [
    {
     "name": "stdout",
     "output_type": "stream",
     "text": [
      "y0 = 33.77099031373315 m\n"
     ]
    }
   ],
   "source": [
    "# recebendo o valor de y0\n",
    "y0 = colision()\n",
    "print(f\"y0 = {y0} m\")"
   ]
  },
  {
   "cell_type": "code",
   "execution_count": 21,
   "id": "1625ed59",
   "metadata": {},
   "outputs": [],
   "source": [
    "# construindo o grafico  \n",
    "x = []\n",
    "y = []\n",
    "z = []\n",
    "w = []"
   ]
  },
  {
   "cell_type": "code",
   "execution_count": 22,
   "id": "41c54196",
   "metadata": {},
   "outputs": [],
   "source": [
    "for t in range(0, 20):\n",
    "    X, Y = first_particle(t)\n",
    "    X2, Y2 = second_particle(t, y0)\n",
    "    x.append(X)\n",
    "    y.append(Y)\n",
    "    z.append(X2)\n",
    "    w.append(Y2)"
   ]
  },
  {
   "cell_type": "code",
   "execution_count": 23,
   "id": "bc9b73db",
   "metadata": {},
   "outputs": [
    {
     "data": {
      "image/png": "[encoded data removed]",
      "text/plain": [
       "<Figure size 432x288 with 1 Axes>"
      ]
     },
     "metadata": {
      "needs_background": "light"
     },
     "output_type": "display_data"
    }
   ],
   "source": [
    "# plotando a primeira particula\n",
    "xf = np.array(x)\n",
    "yf = np.array(y)\n",
    "plt.plot(xf, yf)\n",
    "\n",
    "# segunda particula\n",
    "xf2 = np.array(z)\n",
    "yf2 = np.array(w)\n",
    "plt.plot(xf2, yf2)\n",
    "plt.show()"
   ]
  },
  {
   "cell_type": "markdown",
   "id": "7af23574",
   "metadata": {},
   "source": [
    "Pelo gráfico, observamos que existem duas colisões possíveis entre as partículas,\n",
    "e que com o valor de t igual a 9.575040240772685, o qual foi usado para achar y0,\n",
    "a colisão que representa graficamente esses valores é a segunda."
   ]
  }
 ],
 "metadata": {
  "kernelspec": {
   "display_name": "Python 3 (ipykernel)",
   "language": "python",
   "name": "python3"
  },
  "language_info": {
   "codemirror_mode": {
    "name": "ipython",
    "version": 3
   },
   "file_extension": ".py",
   "mimetype": "text/x-python",
   "name": "python",
   "nbconvert_exporter": "python",
   "pygments_lexer": "ipython3",
   "version": "3.10.4"
  }
 },
 "nbformat": 4,
 "nbformat_minor": 5
}
